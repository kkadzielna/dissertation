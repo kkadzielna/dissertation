{
 "cells": [
  {
   "cell_type": "code",
   "execution_count": null,
   "metadata": {},
   "outputs": [],
   "source": [
    "import tarfile\n",
    "import json\n",
    "import bz2\n",
    "import pandas as pd\n",
    "import time\n",
    "import os\n",
    "import matplotlib.pyplot as plt\n",
    "import re"
   ]
  },
  {
   "attachments": {},
   "cell_type": "markdown",
   "metadata": {},
   "source": [
    "Unpack all files and write them into a single dataframe (mother_df)"
   ]
  },
  {
   "cell_type": "code",
   "execution_count": null,
   "metadata": {},
   "outputs": [],
   "source": [
    "file_location = './data_unpacked/'\n",
    "dirListing = os.listdir(file_location)\n",
    "mother_df = pd.DataFrame()\n",
    "\n",
    "\n",
    "for subdir in dirListing:\n",
    "    for file in os.listdir(file_location + subdir  + '/'):\n",
    "            \n",
    "        existing_file_path = os.path.join(file_location, subdir, file)\n",
    "\n",
    "        new_file_path = os.path.join(file_location, subdir, file)\n",
    "\n",
    "        l = []\n",
    "        with open(new_file_path) as f:\n",
    "            for line in f:\n",
    "                l.append(json.loads(line))\n",
    "        df = pd.DataFrame(l[0:])\n",
    "        # Betfair time is in milliseconds, so this converts it to normal Unix epoch time in seconds.\n",
    "        df['timestamp'] = df['pt'].apply(lambda x: time.gmtime(x/1000))\n",
    "        df['time_str'] = df['timestamp'].apply(lambda x: time.strftime('%Y-%m-%dT%H:%M:%S', x))\n",
    "\n",
    "        match = re.search(r'\\'eventId\\'\\:\\ \\'(\\d+)\\'', str(df['mc'].iloc[0]))\n",
    "        eventId = match.group(0)\n",
    "        eventId = eventId.replace(\"'\", \"\")\n",
    "        eventId = eventId.replace(\"eventId: \", \"\")\n",
    "        ltps = []\n",
    "        inPlays = []\n",
    "        inPlay = False\n",
    "        for d in l:\n",
    "\n",
    "            d['inPlay'] = False\n",
    "\n",
    "            if 'marketDefinition' in str(d['mc']) and inPlay == False:\n",
    "                if \"'inPlay': True\" in str(d['mc']):\n",
    "                    inPlay = True\n",
    "                    d['inPlay'] = True\n",
    "            else:\n",
    "                if inPlay == False:\n",
    "                    d['inPlay'] = False\n",
    "                else:\n",
    "                    d['inPlay'] = True  \n",
    "            inPlays.append(d['inPlay'])\n",
    "\n",
    "\n",
    "            if 'rc' in d['mc'][0].keys():\n",
    "                prices = d['mc'][0]['rc']\n",
    "                t = time.strftime('%Y-%m-%dT%H:%M:%S', time.gmtime(d['pt']/1000))\n",
    "                for p in prices:\n",
    "                    if 'hc' not in p.keys():\n",
    "                        p['hc'] = \"None\"\n",
    "                    p['t'] = t\n",
    "                    p['inPlay'] = d['inPlay']\n",
    "                ltps.append(prices)\n",
    "\n",
    "\n",
    "        ltps_sorted = [item for sublist in ltps for item in sublist]  \n",
    "        df = pd.DataFrame(ltps_sorted)\n",
    "\n",
    "        df['eventId'] = eventId\n",
    "        df['marketId'] = file    \n",
    "        mother_df = mother_df.append(df)\n",
    "\n",
    "# sort the mcms by time\n",
    "mother_df = mother_df.sort_values(by=['t'])\n",
    "mother_df.to_csv('./csvs02/mother_out.csv', index=False)\n",
    "mother_df.head()"
   ]
  },
  {
   "attachments": {},
   "cell_type": "markdown",
   "metadata": {},
   "source": [
    "Extract all the market definition messages and save them to a single dataframe (market_defs_df_1), also get the initial market definitions (market_defs_unique)"
   ]
  },
  {
   "cell_type": "code",
   "execution_count": null,
   "metadata": {},
   "outputs": [],
   "source": [
    "# extract all the market definition mcms\n",
    "# go by market id and count the in play markets\n",
    "# for those that have in play extract the times when they go in play\n",
    "# extract the commission rates for each\n",
    "\n",
    "file_location = './data_unpacked'\n",
    "dirListing = os.listdir(file_location)\n",
    "market_defs = []\n",
    "\n",
    "for subdir in dirListing:\n",
    "    for file in os.listdir(file_location + '/' + subdir + '/'):\n",
    "        with open(file_location + '/' + subdir + '/' + file) as f:\n",
    "            for line in f:\n",
    "                if(\"marketDefinition\" in line):\n",
    "                    market_defs.append(json.loads(line))\n",
    "\n",
    "\n",
    "#put market_defs to a dataframe so that different fields are columns\n",
    "mcm_df = pd.DataFrame(market_defs[0:])\n",
    "\n",
    "#now from the mc column\n",
    "market_defs_df = pd.DataFrame(mcm_df['mc'])\n",
    "\n",
    "market_defs_df['mc'] = market_defs_df['mc'].astype('str')\n",
    "market_defs_df_1 = pd.DataFrame(market_defs_df['mc'])\n",
    "market_defs_df_1['id'] = market_defs_df['mc'].str.extract(r\"\\'id\\'\\:\\ \\'(\\d\\.\\d+)\\'\", expand=True, flags= re.MULTILINE | re.IGNORECASE)\n",
    "market_defs_df_1['turnInPlayEnabled'] = market_defs_df['mc'].str.extract(r'\\'turnInPlayEnabled\\'\\:\\ ([a-z]+)', expand=True, flags= re.MULTILINE | re.IGNORECASE)\n",
    "market_defs_df_1['marketBaseRate'] = market_defs_df['mc'].str.extract(r'\\'marketBaseRate\\'\\:\\ (\\d+\\.\\d+)', expand=True, flags= re.MULTILINE | re.IGNORECASE)\n",
    "market_defs_df_1['eventId'] = market_defs_df['mc'].str.extract(r'\\'eventId\\'\\:\\ \\'(\\d+)\\'', expand=True, flags= re.MULTILINE | re.IGNORECASE)\n",
    "market_defs_df_1['marketTime'] = market_defs_df['mc'].str.extract(r'\\'marketTime\\'\\:\\ \\'(\\d+\\-\\d+\\-\\d+.\\d+\\:\\d+\\:\\d+\\.\\d+.)\\'', expand=True, flags= re.MULTILINE | re.IGNORECASE)\n",
    "market_defs_df_1['suspendTime'] = market_defs_df['mc'].str.extract(r'\\'suspendTime\\'\\:\\ \\'(\\d+\\-\\d+\\-\\d+.\\d+\\:\\d+\\:\\d+\\.\\d+.)\\'', expand=True, flags= re.MULTILINE | re.IGNORECASE)\n",
    "market_defs_df_1['complete'] = market_defs_df['mc'].str.extract(r'\\'complete\\'\\:\\ (\\w+)', expand=True, flags= re.MULTILINE | re.IGNORECASE)\n",
    "market_defs_df_1['inPlay'] = market_defs_df['mc'].str.extract(r'\\'inPlay\\'\\:\\ (\\w+)', expand=True, flags= re.MULTILINE | re.IGNORECASE)\n",
    "market_defs_df_1['numberOfActiveRunners'] = market_defs_df['mc'].str.extract(r'\\'numberOfActiveRunners\\'\\:\\ (\\d+)', expand=True, flags= re.MULTILINE | re.IGNORECASE)\n",
    "market_defs_df_1['betDelay'] = market_defs_df['mc'].str.extract(r'\\'betDelay\\'\\:\\ (\\d+)', expand=True, flags= re.MULTILINE | re.IGNORECASE)\n",
    "market_defs_df_1 = market_defs_df_1.drop(columns='mc')\n",
    "\n",
    "print(market_defs_df_1.head())\n",
    "market_defs_df_1.to_csv('./csvs02/market_defs_all.csv', index=False)\n",
    "\n",
    "market_defs_unique = market_defs_df_1.drop_duplicates('id')\n",
    "market_defs_unique = market_defs_unique.drop(columns=['inPlay', 'betDelay'])\n",
    "market_defs_unique.head()\n",
    "market_defs_unique.to_csv('./csvs02/market_defs_initial.csv', index=False)"
   ]
  },
  {
   "attachments": {},
   "cell_type": "markdown",
   "metadata": {},
   "source": [
    "Separate the mother_df by events"
   ]
  },
  {
   "cell_type": "code",
   "execution_count": null,
   "metadata": {},
   "outputs": [],
   "source": [
    "#create unique list of names\n",
    "events = mother_df.eventId.unique()\n",
    "\n",
    "#create a data frame dictionary to store the data frames\n",
    "DataFrameDict = {elem : pd.DataFrame() for elem in events}\n",
    "\n",
    "for key in DataFrameDict.keys():\n",
    "    DataFrameDict[key] = mother_df[:][mother_df.eventId == key]\n",
    "\n",
    "for event in events:\n",
    "    DataFrameDict[event].to_csv(\"./csvs02/events/\" + event + '.csv', index = False)"
   ]
  },
  {
   "attachments": {},
   "cell_type": "markdown",
   "metadata": {},
   "source": [
    "Extract runners per market and their status as either winners or losers. The last message in the file contains a market definition with the status of all runners. Get the number of active runners from the first message."
   ]
  },
  {
   "cell_type": "code",
   "execution_count": null,
   "metadata": {},
   "outputs": [],
   "source": [
    "file_location = './data_unpacked'\n",
    "dirListing = os.listdir(file_location)\n",
    "market_defs = []\n",
    "\n",
    "for subdir in dirListing:\n",
    "    for file in os.listdir(file_location + '/' + subdir + '/'):\n",
    "        with open(file_location + '/' + subdir + '/' + file) as f:\n",
    "            first_line = f.readline()\n",
    "            last_line = f.readlines()[-1]\n",
    "            market_defs.append(json.loads(first_line))\n",
    "            market_defs.append(json.loads(last_line))\n",
    "\n",
    "\n",
    "runners_df = pd.DataFrame(market_defs[0:])\n",
    "runners_df = pd.DataFrame(runners_df.mc)\n",
    "\n",
    "runners_df['mc'] = runners_df['mc'].astype('str')\n",
    "runners_df_1 = pd.DataFrame(runners_df['mc'])\n",
    "runners_df_1['id'] = runners_df['mc'].str.extract(r\"\\'id\\'\\:\\ \\'(\\d\\.\\d+)\\'\", expand=True, flags= re.MULTILINE | re.IGNORECASE)\n",
    "runners_df_1['eventId'] = runners_df['mc'].str.extract(r'\\'eventId\\'\\:\\ \\'(\\d+)\\'', expand=True, flags= re.MULTILINE | re.IGNORECASE)\n",
    "runners_df_1['numberOfActiveRunners'] = runners_df['mc'].str.extract(r'\\'numberOfActiveRunners\\'\\:\\ (\\d+)', expand=True, flags= re.MULTILINE | re.IGNORECASE)\n",
    "runners_df_1['winner'] = runners_df['mc'].str.extract(r'\\'WINNER\\'\\,\\ \\'sortPriority\\'\\:\\ \\d+\\,\\ \\'bsp\\'\\:\\ \\d+.\\d+\\,\\ \\'id\\'\\:\\ (\\d+)', expand=True, flags= re.MULTILINE | re.IGNORECASE)\n",
    "runners_df_1 = runners_df_1.drop(columns='mc')\n",
    "\n",
    "runners_df_2 = runners_df_1.copy()\n",
    "runners_df_2.winner = runners_df_2.winner.shift(periods=-1)\n",
    "runners_df_3 = runners_df_2[runners_df_2['numberOfActiveRunners'] != '0'].copy()\n",
    "runners_df_3.to_csv('./csvs02/winners.csv', index=False)"
   ]
  }
 ],
 "metadata": {
  "kernelspec": {
   "display_name": "Python 3.9.7 ('COMS30035_labs')",
   "language": "python",
   "name": "python3"
  },
  "language_info": {
   "codemirror_mode": {
    "name": "ipython",
    "version": 3
   },
   "file_extension": ".py",
   "mimetype": "text/x-python",
   "name": "python",
   "nbconvert_exporter": "python",
   "pygments_lexer": "ipython3",
   "version": "3.8.5"
  },
  "orig_nbformat": 4,
  "vscode": {
   "interpreter": {
    "hash": "9e61493f068f0436461088e635d878c96ee32a69580d739c169e4a0ae3f109fb"
   }
  }
 },
 "nbformat": 4,
 "nbformat_minor": 2
}
