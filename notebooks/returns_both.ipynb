{
 "cells": [
  {
   "cell_type": "code",
   "execution_count": 1,
   "metadata": {},
   "outputs": [],
   "source": [
    "import json\n",
    "import pandas as pd\n",
    "import time\n",
    "import os\n",
    "import matplotlib.pyplot as plt\n",
    "from scipy import stats\n",
    "import seaborn as sns\n",
    "import numpy as np\n",
    "import math\n",
    "import scipy as sp\n",
    "from scipy.stats import skew\n",
    "from scipy.stats import kurtosis\n",
    "import warnings\n",
    "import scipy.stats as st\n",
    "import statsmodels.api as sm\n",
    "from scipy.stats._continuous_distns import _distn_names\n",
    "import matplotlib\n",
    "\n",
    "market_defs_initial = pd.read_csv('./csvs02/market_defs_initial.csv')\n",
    "winners_df = pd.read_csv('./csvs02/winners.csv')\n",
    "\n",
    "events = os.listdir('./csvs02/events/')\n",
    "\n",
    "DataFrameDict = {elem : pd.DataFrame() for elem in events}\n",
    "\n",
    "for key in DataFrameDict.keys():\n",
    "    DataFrameDict[key] = pd.read_csv('./csvs02/events/' + key)"
   ]
  },
  {
   "cell_type": "code",
   "execution_count": 2,
   "metadata": {},
   "outputs": [],
   "source": [
    "for key, df in DataFrameDict.items():\n",
    "    df = df.reset_index()\n",
    "    winners = winners_df[winners_df['eventId'] == int(key.replace('.csv', ''))].winner.copy().to_list()\n",
    "\n",
    "    pos_returns = []\n",
    "    pos_returns_t = []\n",
    "    pos_returns_m = []\n",
    "    neg_returns = []\n",
    "    neg_returns_t = []\n",
    "    neg_returns_m = []\n",
    "    stake = 0\n",
    "    dict_prices = dict.fromkeys(df.ltp.unique(), 0.0)\n",
    "    for index, row in df.iterrows():\n",
    "        if not math.isnan(row.ltp) :\n",
    "            if float(row.tv) > dict_prices[row.ltp]:\n",
    "                stake = float(row.tv) - dict_prices[row.ltp]\n",
    "                dict_prices[row.ltp] = float(row.tv)\n",
    "\n",
    "                pos_returns_t.append(str(row.t))\n",
    "                pos_returns_m.append(str(row.marketId))\n",
    "                neg_returns_t.append(str(row.t))\n",
    "                neg_returns_m.append(str(row.marketId))\n",
    "                if row.id in winners:\n",
    "                    ret_w = stake * (float(row.ltp) - (float(market_defs_initial[market_defs_initial['eventId'] == int(key.replace('.csv', ''))].marketBaseRate.iloc[0])*0.01)*(float(row.ltp) - 1.0))\n",
    "                    ret_l = -1.0 * stake * (float(row.ltp)-1.0)\n",
    "                    pos_returns.append(ret_w)\n",
    "                    neg_returns.append(ret_l)\n",
    "                else:\n",
    "                    ret_w = stake * (1.0 - (float(market_defs_initial[market_defs_initial['eventId'] == int(key.replace('.csv', ''))].marketBaseRate.iloc[0])*0.01))\n",
    "                    ret_l = -1.0 * stake \n",
    "                    pos_returns.append(ret_w)\n",
    "                    neg_returns.append(ret_l) \n",
    "                   \n",
    "\n",
    "    pos_ret_df = pd.DataFrame({'ret':pos_returns, 't':pos_returns_t, 'm':pos_returns_m})\n",
    "    neg_ret_df = pd.DataFrame({'ret':neg_returns, 't':neg_returns_t, 'm':neg_returns_m})\n",
    "\n",
    "    pos_ret_df.to_csv(\"./csvs02/returns_both/\" + key.replace('.csv', '') + \"pos_ret.csv\", index=False)\n",
    "    neg_ret_df.to_csv(\"./csvs02/returns_both/\" + key.replace('.csv', '') + \"neg_ret.csv\", index=False)"
   ]
  },
  {
   "cell_type": "code",
   "execution_count": 3,
   "metadata": {},
   "outputs": [],
   "source": [
    "pos_ret_0 = pd.read_csv('csvs02/returns_both/27681540pos_ret.csv')\n",
    "neg_ret_0 = pd.read_csv('csvs02/returns_both/27681540neg_ret.csv')"
   ]
  },
  {
   "cell_type": "code",
   "execution_count": 4,
   "metadata": {},
   "outputs": [],
   "source": [
    "def stats_all(data):\n",
    "    mu = data.mean()\n",
    "    stdev = data.std()\n",
    "    skewn = skew(data)\n",
    "    kurt = kurtosis(data)\n",
    "    nobs = data.size\n",
    "    print('Mean: ' + str(mu) + '\\n')\n",
    "    print('Std: ' + str(stdev) + '\\n')\n",
    "    print('Skewness: ' + str(skewn) + '\\n')\n",
    "    print('Kurtosis: ' + str(kurt) + '\\n')\n",
    "    print('Number of observations: ' + str(nobs) + '\\n')\n",
    "    return mu, stdev, skewn, kurt, nobs"
   ]
  },
  {
   "attachments": {},
   "cell_type": "markdown",
   "metadata": {},
   "source": [
    "Returns distribution market by market"
   ]
  },
  {
   "cell_type": "code",
   "execution_count": 5,
   "metadata": {},
   "outputs": [
    {
     "name": "stdout",
     "output_type": "stream",
     "text": [
      "Mean: 3.966058463184852\n",
      "\n",
      "Std: 3.3240342998134444\n",
      "\n",
      "Skewness: -0.11892651690274006\n",
      "\n",
      "Kurtosis: -0.28481755963667954\n",
      "\n",
      "Number of observations: 6344\n",
      "\n",
      "Mean: 3.7438833195295014\n",
      "\n",
      "Std: 3.1657776203520016\n",
      "\n",
      "Skewness: -0.11831545110784952\n",
      "\n",
      "Kurtosis: -0.13845089758515083\n",
      "\n",
      "Number of observations: 6344\n",
      "\n",
      "Mean: 3.8549708913571767\n",
      "\n",
      "Std: 3.2477709944735156\n",
      "\n",
      "Skewness: -0.11354500449556387\n",
      "\n",
      "Kurtosis: -0.21287668483786515\n",
      "\n",
      "Number of observations: 12688\n",
      "\n"
     ]
    },
    {
     "data": {
      "image/png": "[encoded data removed]",
      "text/plain": [
       "<Figure size 360x360 with 1 Axes>"
      ]
     },
     "metadata": {
      "needs_background": "light"
     },
     "output_type": "display_data"
    },
    {
     "data": {
      "image/png": "[encoded data removed]",
      "text/plain": [
       "<Figure size 360x360 with 1 Axes>"
      ]
     },
     "metadata": {
      "needs_background": "light"
     },
     "output_type": "display_data"
    },
    {
     "data": {
      "image/png": "[encoded data removed]",
      "text/plain": [
       "<Figure size 360x360 with 1 Axes>"
      ]
     },
     "metadata": {
      "needs_background": "light"
     },
     "output_type": "display_data"
    }
   ],
   "source": [
    "pos_ret_0 = pos_ret_0[pos_ret_0['ret'] >= 0.0]\n",
    "log_pos_ret = np.log(np.abs(np.array(pos_ret_0['ret'])))\n",
    "sns.displot(log_pos_ret)\n",
    "mu_clp, stdev_clp, skewn_clp, kurt_clp, nobs_clp = stats_all(log_pos_ret)\n",
    "\n",
    "neg_ret_0 = neg_ret_0[neg_ret_0['ret'] < 0.0]\n",
    "log_neg_ret = np.log(np.abs(np.array(neg_ret_0['ret'])))\n",
    "sns.displot(log_neg_ret)\n",
    "mu_cln, stdev_cln, skewn_cln, kurt_cln, nobs_cln = stats_all(log_neg_ret)\n",
    "\n",
    "log_ret = np.append(log_pos_ret, log_neg_ret)\n",
    "sns.displot(log_ret)\n",
    "mu_cl, stdev_cl, skewn_cl, kurt_cl, nobs_cl = stats_all(log_ret)"
   ]
  }
 ],
 "metadata": {
  "kernelspec": {
   "display_name": "base",
   "language": "python",
   "name": "python3"
  },
  "language_info": {
   "codemirror_mode": {
    "name": "ipython",
    "version": 3
   },
   "file_extension": ".py",
   "mimetype": "text/x-python",
   "name": "python",
   "nbconvert_exporter": "python",
   "pygments_lexer": "ipython3",
   "version": "3.8.5"
  },
  "orig_nbformat": 4
 },
 "nbformat": 4,
 "nbformat_minor": 2
}
